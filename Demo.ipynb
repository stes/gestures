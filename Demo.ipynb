{
 "cells": [
  {
   "cell_type": "code",
   "execution_count": 1,
   "metadata": {},
   "outputs": [],
   "source": [
    "%matplotlib inline\n",
    "%load_ext autoreload\n",
    "%autoreload 2\n",
    "\n",
    "import numpy as np\n",
    "import sklearn\n",
    "from sklearn.datasets import load_digits\n",
    "\n",
    "from sklearn.decomposition import KernelPCA, PCA\n",
    "from sklearn.discriminant_analysis import LinearDiscriminantAnalysis\n",
    "from sklearn.svm import SVC\n",
    "from sklearn.pipeline import Pipeline\n",
    "from sklearn.manifold import TSNE\n",
    "from sklearn.metrics import classification_report\n",
    "\n",
    "import seaborn as sns\n",
    "import matplotlib.pyplot as plt\n",
    "\n",
    "import h5py"
   ]
  },
  {
   "cell_type": "markdown",
   "metadata": {},
   "source": [
    "# Binary Hand Gesture Dataset\n",
    "\n",
    "This notebook introduces a toy dataset for hand gesture classification.\n",
    "It is comprised of seven different gestures, with the hand already pre-segmented from the background in a 64x64px binary image.\n",
    "The data is distributed as a HDF5 file and can be found at [`https://github.com/stes/gestures`](https://github.com/stes/gestures)."
   ]
  },
  {
   "cell_type": "code",
   "execution_count": 2,
   "metadata": {
    "collapsed": true
   },
   "outputs": [],
   "source": [
    "classmap = {\"fist\"   : 0,\n",
    "            \"five\"   : 5,\n",
    "            \"four\"   : 4,\n",
    "            \"pistol\" : 2,\n",
    "            \"three\"  : 3,\n",
    "            \"thumb\"  : 1,\n",
    "            \"peace\"  : 6}\n",
    "\n",
    "idx2cl = [{v:k for k, v in classmap.items()}[i] for i in range(7)]"
   ]
  },
  {
   "cell_type": "markdown",
   "metadata": {},
   "source": [
    "Data loading is simple using the `h5py` package:"
   ]
  },
  {
   "cell_type": "code",
   "execution_count": 3,
   "metadata": {},
   "outputs": [
    {
     "name": "stdout",
     "output_type": "stream",
     "text": [
      "The train dataset contains 9724 samples of size 64x64\n",
      "The test dataset contains 667 samples of size 64x64\n"
     ]
    }
   ],
   "source": [
    "with h5py.File('data/gestures_64px.hdf5') as ds:\n",
    "    yt = ds['yt'][:]\n",
    "    yv = ds['yv'][:]\n",
    "    \n",
    "    Xt = ds['Xt'][:]\n",
    "    Xv = ds['Xv'][:]\n",
    "\n",
    "print(\"The {} dataset contains {} samples of size {}x{}\".format('train', *Xt.shape))    \n",
    "print(\"The {} dataset contains {} samples of size {}x{}\".format('test', *Xv.shape))    "
   ]
  },
  {
   "cell_type": "code",
   "execution_count": 4,
   "metadata": {},
   "outputs": [],
   "source": [
    "def plot_overview(X, y):\n",
    "    fig, axes = plt.subplots(10,7,figsize=(20,20))\n",
    "\n",
    "    for i, row in enumerate(axes):\n",
    "        for j, ax in enumerate(row):\n",
    "            if i == 0: ax.set_title('{} ({})'.format(idx2cl[j], j))\n",
    "            ax.imshow(X[y == j][i], cmap = \"gray\")\n",
    "            ax.axis(\"off\")"
   ]
  },
  {
   "cell_type": "markdown",
   "metadata": {},
   "source": [
    "### Training Dataset\n",
    "\n",
    "Let us now plot an overview of the training dataset"
   ]
  },
  {
   "cell_type": "code",
   "execution_count": 5,
   "metadata": {
    "collapsed": true
   },
   "outputs": [],
   "source": [
    "sns.set_context(\"notebook\", font_scale=1.5)\n",
    "\n",
    "plot_overview(Xt, yt)\n",
    "plt.savefig(\"img/overview_train.svg\", bbox_inches='tight')\n",
    "plt.close()"
   ]
  },
  {
   "cell_type": "markdown",
   "metadata": {},
   "source": [
    "![The training dataset](img/overview_train.svg)"
   ]
  },
  {
   "cell_type": "markdown",
   "metadata": {},
   "source": [
    "### Test Dataset\n",
    "\n",
    "And another overview of the test dataset"
   ]
  },
  {
   "cell_type": "code",
   "execution_count": 6,
   "metadata": {},
   "outputs": [],
   "source": [
    "sns.set_context(\"notebook\", font_scale=1.5)\n",
    "\n",
    "plot_overview(Xv, yv)\n",
    "plt.savefig(\"img/overview_test.svg\", bbox_inches='tight')\n",
    "plt.close()"
   ]
  },
  {
   "cell_type": "markdown",
   "metadata": {},
   "source": [
    "![The test dataset](img/overview_test.svg)"
   ]
  },
  {
   "cell_type": "markdown",
   "metadata": {},
   "source": [
    "## Classification Experiments\n",
    "\n",
    "Here are some quick experiments using the data for building classification models.\n",
    "The parameters are not tuned in any sense, so feel free to play around and improve the scores of the model.\n",
    "The task should be fairly easy when using a CNN.\n",
    "For the experiments I originally did with the dataset, I obtained an accuracy of ~90% with a fairly simple two-layer net on a handcrafted feature vector."
   ]
  },
  {
   "cell_type": "code",
   "execution_count": 7,
   "metadata": {},
   "outputs": [
    {
     "name": "stdout",
     "output_type": "stream",
     "text": [
      "LDA\n",
      "Training\n",
      "             precision    recall  f1-score   support\n",
      "\n",
      "       FIST       0.84      0.85      0.84      1738\n",
      "      THUMB       0.81      0.74      0.77      1412\n",
      "     PISTOL       0.49      0.46      0.48      1249\n",
      "      THREE       0.53      0.61      0.57      1461\n",
      "       FOUR       0.41      0.43      0.42       710\n",
      "       FIVE       0.76      0.65      0.70      1338\n",
      "      PEACE       0.70      0.74      0.72      1816\n",
      "\n",
      "avg / total       0.68      0.67      0.67      9724\n",
      "\n",
      "\n",
      "Testing\n",
      "             precision    recall  f1-score   support\n",
      "\n",
      "       FIST       0.57      0.36      0.44       107\n",
      "      THUMB       0.55      0.60      0.57       108\n",
      "     PISTOL       0.37      0.45      0.40        92\n",
      "      THREE       0.38      0.40      0.39        91\n",
      "       FOUR       0.41      0.26      0.32       131\n",
      "       FIVE       0.45      0.36      0.40        75\n",
      "      PEACE       0.37      0.76      0.49        63\n",
      "\n",
      "avg / total       0.45      0.43      0.43       667\n",
      "\n",
      "\n",
      "---------------------------------------------------------------------------\n",
      "\n",
      "SVM RBF C = .1\n",
      "Training\n",
      "             precision    recall  f1-score   support\n",
      "\n",
      "       FIST       1.00      1.00      1.00      1738\n",
      "      THUMB       1.00      1.00      1.00      1412\n",
      "     PISTOL       0.99      0.99      0.99      1249\n",
      "      THREE       0.99      0.99      0.99      1461\n",
      "       FOUR       1.00      0.97      0.98       710\n",
      "       FIVE       1.00      1.00      1.00      1338\n",
      "      PEACE       1.00      1.00      1.00      1816\n",
      "\n",
      "avg / total       0.99      0.99      0.99      9724\n",
      "\n",
      "\n",
      "Testing\n",
      "             precision    recall  f1-score   support\n",
      "\n",
      "       FIST       0.69      0.51      0.59       107\n",
      "      THUMB       0.85      0.58      0.69       108\n",
      "     PISTOL       0.38      0.97      0.55        92\n",
      "      THREE       0.89      0.46      0.61        91\n",
      "       FOUR       0.92      0.85      0.89       131\n",
      "       FIVE       0.82      0.48      0.61        75\n",
      "      PEACE       0.87      0.92      0.89        63\n",
      "\n",
      "avg / total       0.78      0.68      0.69       667\n",
      "\n",
      "\n",
      "---------------------------------------------------------------------------\n",
      "\n",
      "SVM RBF C = 10\n",
      "Training\n",
      "             precision    recall  f1-score   support\n",
      "\n",
      "       FIST       1.00      1.00      1.00      1738\n",
      "      THUMB       1.00      1.00      1.00      1412\n",
      "     PISTOL       1.00      1.00      1.00      1249\n",
      "      THREE       1.00      1.00      1.00      1461\n",
      "       FOUR       1.00      1.00      1.00       710\n",
      "       FIVE       1.00      1.00      1.00      1338\n",
      "      PEACE       1.00      1.00      1.00      1816\n",
      "\n",
      "avg / total       1.00      1.00      1.00      9724\n",
      "\n",
      "\n",
      "Testing\n",
      "             precision    recall  f1-score   support\n",
      "\n",
      "       FIST       0.69      0.52      0.60       107\n",
      "      THUMB       0.89      0.57      0.70       108\n",
      "     PISTOL       0.41      0.97      0.58        92\n",
      "      THREE       0.95      0.46      0.62        91\n",
      "       FOUR       0.82      0.91      0.86       131\n",
      "       FIVE       0.82      0.49      0.62        75\n",
      "      PEACE       0.86      0.89      0.88        63\n",
      "\n",
      "avg / total       0.78      0.69      0.69       667\n",
      "\n",
      "\n",
      "---------------------------------------------------------------------------\n",
      "\n"
     ]
    }
   ],
   "source": [
    "preproc = lambda x : x[:,::2,::2].reshape(len(x), -1)\n",
    "\n",
    "pca = PCA(n_components=20)\n",
    "\n",
    "models = {\n",
    "    'LDA' : LinearDiscriminantAnalysis(),\n",
    "    'SVM RBF C = .1' : SVC(kernel=\"rbf\", C = .1),\n",
    "    'SVM RBF C = 10' : SVC(kernel=\"rbf\", C = 10)\n",
    "}\n",
    "\n",
    "for name, classifier in models.items():\n",
    "\n",
    "    model = Pipeline((('pca', pca), (name, classifier)))\n",
    "\n",
    "    model.fit(preproc(Xt), yt)\n",
    "    pt = model.predict(preproc(Xt)) #.argmax(axis=-1)\n",
    "    pv = model.predict(preproc(Xv)) #.argmax(axis=-1)\n",
    "    \n",
    "    print(name)\n",
    "    print(\"Training\")\n",
    "    print(classification_report(yt, pt, target_names=[idx2cl[i].upper() for i in range(7)]))\n",
    "    print(\"\")\n",
    "    print(\"Testing\")\n",
    "    print(classification_report(yv, pv, target_names=[idx2cl[i].upper() for i in range(7)]))\n",
    "    print(\"\\n\" + \"-\"*75+\"\\n\")"
   ]
  },
  {
   "cell_type": "markdown",
   "metadata": {},
   "source": [
    "## Principal Component Analysis\n",
    "\n",
    "Here I show the filters obtained by a PCA used as a pre-processing step in the model before."
   ]
  },
  {
   "cell_type": "code",
   "execution_count": 8,
   "metadata": {},
   "outputs": [],
   "source": [
    "fig, axes = plt.subplots(2,10,figsize=(20,5))\n",
    "\n",
    "for i, ax in enumerate(axes.flatten()):\n",
    "    ax.imshow(pca.components_[i].reshape(32,32), cmap=\"coolwarm\")\n",
    "    ax.axis(\"off\")\n",
    "plt.suptitle(\"Principal Components\")\n",
    "plt.savefig(\"img/pca.svg\", bbox_inches=\"tight\")\n",
    "plt.close()"
   ]
  },
  {
   "cell_type": "markdown",
   "metadata": {},
   "source": [
    "![The first principal components](img/pca.svg)"
   ]
  },
  {
   "cell_type": "markdown",
   "metadata": {},
   "source": [
    "## License/Contact\n",
    "\n",
    "If you have any questions regarding the dataset, feel free to [contact me](stes.io).\n",
    "\n",
    "You are free to use the dataset under the terms of the CC BY 4.0 license.\n",
    "\n",
    "<a rel=\"license\" href=\"http://creativecommons.org/licenses/by/4.0/\"><img alt=\"Creative Commons License\" style=\"border-width:0\" src=\"https://i.creativecommons.org/l/by/4.0/88x31.png\" /></a><br />This work is licensed under a <a rel=\"license\" href=\"http://creativecommons.org/licenses/by/4.0/\">Creative Commons Attribution 4.0 International License</a>."
   ]
  }
 ],
 "metadata": {
  "kernelspec": {
   "display_name": "Python 3",
   "language": "python",
   "name": "python3"
  },
  "language_info": {
   "codemirror_mode": {
    "name": "ipython",
    "version": 3
   },
   "file_extension": ".py",
   "mimetype": "text/x-python",
   "name": "python",
   "nbconvert_exporter": "python",
   "pygments_lexer": "ipython3",
   "version": "3.6.4"
  }
 },
 "nbformat": 4,
 "nbformat_minor": 2
}
